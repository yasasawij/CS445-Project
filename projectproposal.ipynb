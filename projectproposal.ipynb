{
 "cells": [
  {
   "cell_type": "markdown",
   "metadata": {},
   "source": [
    "# Project Proposal:\n",
    "\n",
    "## Introduction\n",
    "\n",
    "For this project, we are going to be following the first prompt, which was:\n",
    "\n",
    " \"Apply a neural network learning algorithm and implementation covered in class applied to a data set of interest to you.  Analyze the results, in terms of training and testing accuracy, data samples for which the neural network output is incorrect, and displays of activities and/or weights in hidden units to help understand how the neural network is making its decisions. Play around with the hyper-parameter to see if you can improve the performance. Select a baseline algorithm, doesn't have to be neural network and see how it compares against your method. Try to get your method to better than the baseline.\" \n",
    "\n",
    "We will apply a neural network learning algorithm to the MS-COCO dataset, focusing on image classification. Our goal is to train a convolutional neural network (CNN) to classify images into their respective categories.\n",
    "\n",
    "We aim to answer the following questions:\n",
    "- How accurately can a neural network classify images from the MS-COCO dataset?\n",
    "- How well can we interpret the behavior of hidden layers and parse through the decision-making processes in our model?\n",
    "- Which images cause the most issues in classification?\n",
    "- Can we fine tune hyper parameters to achieve a more accurate model than baseline?\n",
    "\n",
    "Our hypotheses:\n",
    "- A properly tuned and tested convolutional neural network will outperform algo's such as such as logistic regression or random forest.\n",
    "- Certain classes in the dataset specifically those with high intra-class variance or low sample counts will cause misclassification.\n",
    "- Visualizing hidden layer activations will help in finding the features that the CNN focuses on such as object edges and textures."
   ]
  },
  {
   "cell_type": "markdown",
   "metadata": {},
   "source": [
    "## Methods\n",
    "\n",
    "### Why this project?\n",
    "\n",
    "MS-COCO is a large-scale dataset used for object detection, segmentation, and captioning. It is a historically useful dataset for testing CNN's on image classification due to the variety of distinct images and data that can be used for training.\n",
    "\n",
    "### Steps to complete the project:\n",
    "\n",
    "1. **Data Collection:**\n",
    "   - Use the MS-COCO API to download a subset of the dataset for classification tasks.\n",
    "   - Decide on the number of categories and balance the dataset by collecting an equal number of samples for each class.\n",
    "   - Organize images into folders (e.g., dataset/train/class_name, dataset/val/class_name, dataset/test/class_name) for ease of use with PyTorch/TensorFlow data loaders.\n",
    "\n",
    "2. **Data Preprocessing:**\n",
    "   - Resize and normalize images.\n",
    "   - Perform data changes (e.g., rotation, flipping) to increase generalization.\n",
    "\n",
    "3. **Model Selection and Implementation:**\n",
    "   - Use PyTorch or TensorFlow to implement a CNN.\n",
    "   - Experiment with different architectures such as a simple CNN or ResNet to find one that works.\n",
    "   - Write modular code so architectures can be easily swapped or extended.\n",
    "\n",
    "4. **Training and Evaluation:**\n",
    "   - Train the network, monitor training and validation accuracy.\n",
    "   - Track training and validation accuracy/loss per epoch.\n",
    "   - Generate a confusion matrix and classification report.\n",
    "   - Evaluate on a separate test set.\n",
    "   - Analyze any misclassified images.\n",
    "   - Visualize and examine misclassified images to identify patterns or biases.\n",
    "\n",
    "5. **Hyperparameter Tuning:**\n",
    "   - Experiment with different hyperparameters such as learning rates, batch sizes, number of epochs, and optimizers.\n",
    "   - Apply a grid search to tune different parameters.\n",
    "\n",
    "6. **Visualization:**\n",
    "   - Visualize training curves like accuracy and loss.\n",
    "   - Display activations and feature maps from hidden layers to test the hypothesis.\n",
    "   - Visualize weights.\n",
    "\n",
    "7. **Baseline Comparison:**\n",
    "   - Implement a baseline model such as log regression or random forest to compare.\n",
    "   - Compare accuracy, precision, recall, and F1-score.\n",
    "\n",
    "8. **Documentation and Analysis:**\n",
    "   - Document findings and interpret the behavior of the neural network.\n",
    "\n",
    "### Roles:\n",
    "\n",
    "- **Yasas:**\n",
    "  - Data collection and preprocessing (MS-COCO API, image preparation)\n",
    "  - CNN architecture implementation and initial training\n",
    "  - Visualizations of network activity and hidden layer activations\n",
    "  - Final report writing and visual design of the notebook\n",
    "\n",
    "- **Tucker:**\n",
    "  - Baseline model implementation and evaluation\n",
    "  - Hyperparameter tuning and performance optimization\n",
    "  - Analysis of model errors and misclassifications\n",
    "  - Final comparison of CNN vs. baseline model and conclusion writing"
   ]
  },
  {
   "cell_type": "markdown",
   "metadata": {},
   "source": [
    "### Sources of Code and Data:\n",
    "\n",
    "- **Data:** MS-COCO dataset ([https://cocodataset.org/](https://cocodataset.org/))\n",
    "- **Code:** \n",
    "  - PyTorch/TensorFlow frameworks for neural network implementation\n",
    "  - Matplotlib/Seaborn for visualizations\n",
    "  - Scikit-learn for baseline models\n",
    "- We will not create new algorithms but will implement and customize existing architectures as per the prompt.\n"
   ]
  },
  {
   "cell_type": "markdown",
   "metadata": {},
   "source": [
    "## Possible Results\n",
    "\n",
    "We expect:\n",
    "- CNN model to achieve higher accuracy than the baseline.\n",
    "- Classes with less examples or higher diversity in images may be more challenging to classify.\n",
    "- Visualizations of hidden layers will provide insights into how the network distinguishes between classes and what it focuses on.\n",
    "- Hyperparameter tuning should provide measurable performance improvements that are visibly better than the baseline algorithms.\n",
    "\n",
    "Potential challenges:\n",
    "- Training time due to the size of the MS-COCO dataset.\n",
    "- Overfitting if not properly regularized."
   ]
  },
  {
   "cell_type": "markdown",
   "metadata": {},
   "source": [
    "## Timeline\n",
    "\n",
    "| Date          | Task | Description |\n",
    "|---------------|------|-------------|\n",
    "| **April 12**  | Data Collection & Preprocessing | Download and prepare MS-COCO dataset, perform data augmentation. |\n",
    "| **April 19**  | Model Implementation & Baseline | Implement CNN architecture and baseline model. Begin initial training runs. |\n",
    "| **April 26**  | Hyperparameter Tuning & Visualization | Experiment with hyperparameters, visualize activations, analyze misclassifications. |\n",
    "| **May 3**     | Final Evaluation & Report Writing | Compare CNN with baseline, finalize visualizations, write up final report. |\n",
    "| **May 10**    | Submission | Final review and submission of project. |"
   ]
  }
 ],
 "metadata": {
  "language_info": {
   "name": "python"
  }
 },
 "nbformat": 4,
 "nbformat_minor": 2
}
